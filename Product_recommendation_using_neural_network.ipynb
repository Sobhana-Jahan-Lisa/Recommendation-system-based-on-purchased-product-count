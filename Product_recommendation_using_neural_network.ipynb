{
  "nbformat": 4,
  "nbformat_minor": 0,
  "metadata": {
    "colab": {
      "name": "Product_recommendation_using_neural_network.ipynb",
      "provenance": [],
      "collapsed_sections": []
    },
    "kernelspec": {
      "display_name": "Python 3",
      "language": "python",
      "name": "python3"
    },
    "language_info": {
      "codemirror_mode": {
        "name": "ipython",
        "version": 3
      },
      "file_extension": ".py",
      "mimetype": "text/x-python",
      "name": "python",
      "nbconvert_exporter": "python",
      "pygments_lexer": "ipython3",
      "version": "3.7.6"
    }
  },
  "cells": [
    {
      "cell_type": "code",
      "metadata": {
        "id": "ZRdTDpr0J71n"
      },
      "source": [
        "#Product recommendation system based on purchased product count using neural network"
      ],
      "execution_count": 35,
      "outputs": []
    },
    {
      "cell_type": "code",
      "metadata": {
        "id": "uhIFVOgAytzN"
      },
      "source": [
        "import pandas as pd\n",
        "import tensorflow as tf\n",
        "from tensorflow.keras.layers import Input, Dense, Embedding, Flatten,Concatenate\n",
        "from tensorflow.keras.models import Model\n",
        "from tensorflow.keras.optimizers import SGD, Adam                                                                                \n",
        "from sklearn.utils import shuffle\n",
        "from numpy import array\n",
        "from keras.models import Sequential\n",
        "from keras.layers import Dense\n",
        "from keras import metrics\n",
        "from matplotlib import pyplot\n",
        "import numpy as np\n",
        "import pandas as pd\n",
        "import matplotlib.pyplot as plt"
      ],
      "execution_count": 36,
      "outputs": []
    },
    {
      "cell_type": "code",
      "metadata": {
        "id": "v9qGs4J3ytzY",
        "colab": {
          "base_uri": "https://localhost:8080/"
        },
        "outputId": "45cbe9b1-6a83-430a-df23-76426ee437c3"
      },
      "source": [
        "\n",
        "user_purchase_count = pd.read_csv('/content/userid_purchaseid_count.csv')\n",
        "\n",
        "user_purchase_count.head()   \n",
        "user_purchase_count.dtypes"
      ],
      "execution_count": 37,
      "outputs": [
        {
          "output_type": "execute_result",
          "data": {
            "text/plain": [
              "userId            int64\n",
              "All_ProductId     int64\n",
              "Purchase_Count    int64\n",
              "dtype: object"
            ]
          },
          "metadata": {
            "tags": []
          },
          "execution_count": 37
        }
      ]
    },
    {
      "cell_type": "code",
      "metadata": {
        "id": "gbD49TN4ytzc"
      },
      "source": [
        "user_purchase_count.userId = pd.Categorical(user_purchase_count.userId)\n",
        "user_purchase_count['userId']=user_purchase_count.userId.cat.codes\n",
        "user_purchase_count.Purchase_Count = pd.Categorical(user_purchase_count.Purchase_Count)\n",
        "user_purchase_count['Purchase_Count']=user_purchase_count.Purchase_Count.cat.codes\n",
        "\n",
        "user_purchase_count.All_ProductId = pd.Categorical(user_purchase_count.All_ProductId)\n",
        "user_purchase_count['All_ProductId']=user_purchase_count.All_ProductId.cat.codes\n",
        "\n"
      ],
      "execution_count": 38,
      "outputs": []
    },
    {
      "cell_type": "code",
      "metadata": {
        "id": "UW2dMrJOG38V",
        "colab": {
          "base_uri": "https://localhost:8080/"
        },
        "outputId": "fe2c65e0-1009-4d56-8d88-29d2c5b2f29f"
      },
      "source": [
        "Purchase_Count=user_purchase_count['Purchase_Count'].values\r\n",
        "Purchase_Count"
      ],
      "execution_count": 39,
      "outputs": [
        {
          "output_type": "execute_result",
          "data": {
            "text/plain": [
              "array([ 1,  4, 14, ...,  5, 10,  1], dtype=int8)"
            ]
          },
          "metadata": {
            "tags": []
          },
          "execution_count": 39
        }
      ]
    },
    {
      "cell_type": "code",
      "metadata": {
        "id": "Q1MMrYzYytzf",
        "colab": {
          "base_uri": "https://localhost:8080/"
        },
        "outputId": "62be08d4-d411-4211-d76e-8cb4f939baff"
      },
      "source": [
        "user_Ids=user_purchase_count['userId'].values\n",
        "user_Ids"
      ],
      "execution_count": 40,
      "outputs": [
        {
          "output_type": "execute_result",
          "data": {
            "text/plain": [
              "array([  0,   0,   0, ..., 609, 609, 609], dtype=int16)"
            ]
          },
          "metadata": {
            "tags": []
          },
          "execution_count": 40
        }
      ]
    },
    {
      "cell_type": "code",
      "metadata": {
        "id": "M10UGx5bytzg",
        "colab": {
          "base_uri": "https://localhost:8080/"
        },
        "outputId": "18911044-6905-404b-f680-14122a8ad6b6"
      },
      "source": [
        "All_productIds=user_purchase_count['All_ProductId'].values\r\n",
        "All_productIds"
      ],
      "execution_count": 41,
      "outputs": [
        {
          "output_type": "execute_result",
          "data": {
            "text/plain": [
              "array([   0,    2,    5, ..., 9444, 9445, 9485], dtype=int16)"
            ]
          },
          "metadata": {
            "tags": []
          },
          "execution_count": 41
        }
      ]
    },
    {
      "cell_type": "code",
      "metadata": {
        "id": "cqBtSR8aytzh"
      },
      "source": [
        ""
      ],
      "execution_count": 41,
      "outputs": []
    },
    {
      "cell_type": "code",
      "metadata": {
        "id": "Wuv91V4hytzh"
      },
      "source": [
        "#len_of_user_id"
      ],
      "execution_count": 42,
      "outputs": []
    },
    {
      "cell_type": "code",
      "metadata": {
        "id": "fOAATky7ytzi",
        "colab": {
          "base_uri": "https://localhost:8080/",
          "height": 419
        },
        "outputId": "d304d2b0-3b27-4693-b868-43ee1517e46a"
      },
      "source": [
        "user_purchase_count"
      ],
      "execution_count": 43,
      "outputs": [
        {
          "output_type": "execute_result",
          "data": {
            "text/html": [
              "<div>\n",
              "<style scoped>\n",
              "    .dataframe tbody tr th:only-of-type {\n",
              "        vertical-align: middle;\n",
              "    }\n",
              "\n",
              "    .dataframe tbody tr th {\n",
              "        vertical-align: top;\n",
              "    }\n",
              "\n",
              "    .dataframe thead th {\n",
              "        text-align: right;\n",
              "    }\n",
              "</style>\n",
              "<table border=\"1\" class=\"dataframe\">\n",
              "  <thead>\n",
              "    <tr style=\"text-align: right;\">\n",
              "      <th></th>\n",
              "      <th>userId</th>\n",
              "      <th>All_ProductId</th>\n",
              "      <th>Purchase_Count</th>\n",
              "    </tr>\n",
              "  </thead>\n",
              "  <tbody>\n",
              "    <tr>\n",
              "      <th>0</th>\n",
              "      <td>0</td>\n",
              "      <td>0</td>\n",
              "      <td>1</td>\n",
              "    </tr>\n",
              "    <tr>\n",
              "      <th>1</th>\n",
              "      <td>0</td>\n",
              "      <td>2</td>\n",
              "      <td>4</td>\n",
              "    </tr>\n",
              "    <tr>\n",
              "      <th>2</th>\n",
              "      <td>0</td>\n",
              "      <td>5</td>\n",
              "      <td>14</td>\n",
              "    </tr>\n",
              "    <tr>\n",
              "      <th>3</th>\n",
              "      <td>0</td>\n",
              "      <td>43</td>\n",
              "      <td>5</td>\n",
              "    </tr>\n",
              "    <tr>\n",
              "      <th>4</th>\n",
              "      <td>0</td>\n",
              "      <td>46</td>\n",
              "      <td>5</td>\n",
              "    </tr>\n",
              "    <tr>\n",
              "      <th>...</th>\n",
              "      <td>...</td>\n",
              "      <td>...</td>\n",
              "      <td>...</td>\n",
              "    </tr>\n",
              "    <tr>\n",
              "      <th>100831</th>\n",
              "      <td>609</td>\n",
              "      <td>9416</td>\n",
              "      <td>4</td>\n",
              "    </tr>\n",
              "    <tr>\n",
              "      <th>100832</th>\n",
              "      <td>609</td>\n",
              "      <td>9443</td>\n",
              "      <td>5</td>\n",
              "    </tr>\n",
              "    <tr>\n",
              "      <th>100833</th>\n",
              "      <td>609</td>\n",
              "      <td>9444</td>\n",
              "      <td>5</td>\n",
              "    </tr>\n",
              "    <tr>\n",
              "      <th>100834</th>\n",
              "      <td>609</td>\n",
              "      <td>9445</td>\n",
              "      <td>10</td>\n",
              "    </tr>\n",
              "    <tr>\n",
              "      <th>100835</th>\n",
              "      <td>609</td>\n",
              "      <td>9485</td>\n",
              "      <td>1</td>\n",
              "    </tr>\n",
              "  </tbody>\n",
              "</table>\n",
              "<p>100836 rows × 3 columns</p>\n",
              "</div>"
            ],
            "text/plain": [
              "        userId  All_ProductId  Purchase_Count\n",
              "0            0              0               1\n",
              "1            0              2               4\n",
              "2            0              5              14\n",
              "3            0             43               5\n",
              "4            0             46               5\n",
              "...        ...            ...             ...\n",
              "100831     609           9416               4\n",
              "100832     609           9443               5\n",
              "100833     609           9444               5\n",
              "100834     609           9445              10\n",
              "100835     609           9485               1\n",
              "\n",
              "[100836 rows x 3 columns]"
            ]
          },
          "metadata": {
            "tags": []
          },
          "execution_count": 43
        }
      ]
    },
    {
      "cell_type": "code",
      "metadata": {
        "id": "9-DBs-D0ytzi"
      },
      "source": [
        "# calculating length of users and products\n",
        "len_of_user_id=len(set(user_Ids))\n",
        "len_of_all_product_id=len(set(All_productIds))\n",
        "#embedding dimension\n",
        "K=10\n"
      ],
      "execution_count": 44,
      "outputs": []
    },
    {
      "cell_type": "code",
      "metadata": {
        "id": "GhEdVdB_ytzj",
        "colab": {
          "base_uri": "https://localhost:8080/"
        },
        "outputId": "cde6864c-19bd-49ac-a40b-43ca06a095f0"
      },
      "source": [
        "\n",
        "len_of_all_product_id"
      ],
      "execution_count": 45,
      "outputs": [
        {
          "output_type": "execute_result",
          "data": {
            "text/plain": [
              "9724"
            ]
          },
          "metadata": {
            "tags": []
          },
          "execution_count": 45
        }
      ]
    },
    {
      "cell_type": "code",
      "metadata": {
        "id": "rRdyjf6vytzj",
        "colab": {
          "base_uri": "https://localhost:8080/"
        },
        "outputId": "61cd2951-a05b-4ff1-e0e9-e5cc72fbb71b"
      },
      "source": [
        "len_of_user_id"
      ],
      "execution_count": 46,
      "outputs": [
        {
          "output_type": "execute_result",
          "data": {
            "text/plain": [
              "610"
            ]
          },
          "metadata": {
            "tags": []
          },
          "execution_count": 46
        }
      ]
    },
    {
      "cell_type": "code",
      "metadata": {
        "id": "VwtxotRBytzk"
      },
      "source": [
        "# Make a neural network\n",
        "\n",
        "# User input\n",
        "u = Input(shape=(1,))\n",
        "\n",
        "# AllProduct input\n",
        "p = Input(shape=(1,))\n",
        "# User embedding\n",
        "u_emb = Embedding(len_of_user_id, K)(u) # output is (num_samples, 1, K)\n",
        "\n",
        "# AllProduct embedding\n",
        "p_emb = Embedding(len_of_all_product_id, K)(p) # output is (num_samples, 1, K)\n",
        "\n",
        "# Flatten both embeddings\n",
        "u_emb = Flatten()(u_emb) # now it's (num_samples, K)\n",
        "p_emb = Flatten()(p_emb) # now it's (num_samples, K)\n",
        "\n",
        "# Concatenate user-product embeddings into a feature vector\n",
        "x = Concatenate()([u_emb, p_emb]) # now it's (num_samples, 2K)\n",
        "\n",
        "# Now that we have a feature vector, it's just a regular ANN\n",
        "x = Dense(1024, activation='relu')(x)\n",
        " #x = Dense(400, activation='relu')(x)\n",
        " #x = Dense(400, activation='relu')(x)\n",
        "x = Dense(1)(x)\n",
        "\n"
      ],
      "execution_count": 47,
      "outputs": []
    },
    {
      "cell_type": "code",
      "metadata": {
        "id": "6Jr2cXGpytzk",
        "colab": {
          "base_uri": "https://localhost:8080/"
        },
        "outputId": "ec2488d6-8290-4e82-93fb-dde333d42264"
      },
      "source": [
        "# Building model and compile\n",
        "model = Model(inputs=[u, p], outputs=x)\n",
        "model.compile(loss='mse', optimizer='adam', metrics=['mse', 'mae', 'mape',])\n",
        "#model.compile(loss='binary_crossentropy', optimizer='adam', metrics=['accuracy'])\n",
        "from keras import metrics\n",
        "#model.compile(loss='mse', optimizer='adam', metrics=[metrics.mean_squared_error, metrics.mean_absolute_error, metrics.mean_absolute_percentage_error, metrics.cosine_proximity])\n",
        "\n",
        "model"
      ],
      "execution_count": 48,
      "outputs": [
        {
          "output_type": "execute_result",
          "data": {
            "text/plain": [
              "<tensorflow.python.keras.engine.functional.Functional at 0x7fceee09e9b0>"
            ]
          },
          "metadata": {
            "tags": []
          },
          "execution_count": 48
        }
      ]
    },
    {
      "cell_type": "code",
      "metadata": {
        "id": "z_S0ejtfytzk"
      },
      "source": [
        "# split the data\n",
        "user_Ids, All_productIds, Purchase_Count = shuffle(user_Ids, All_productIds, Purchase_Count)\n",
        "Ntrain = int(0.8 * len(Purchase_Count))\n",
        "train_user_Ids= user_Ids[:Ntrain]\n",
        "train_All_productIds = All_productIds[:Ntrain]\n",
        "train_Purchase_Count = Purchase_Count[:Ntrain]\n",
        "\n",
        "test_user_Ids = user_Ids[Ntrain:]\n",
        "test_All_productIds = All_productIds[Ntrain:]\n",
        "test_Purchase_Count = Purchase_Count[Ntrain:]\n",
        "\n",
        "# center the ratings\n",
        "avg_Purchase_Count = train_Purchase_Count.mean()\n",
        "train_Purchase_Count = train_Purchase_Count - avg_Purchase_Count\n",
        "test_Purchase_Count = test_Purchase_Count - avg_Purchase_Count"
      ],
      "execution_count": 49,
      "outputs": []
    },
    {
      "cell_type": "code",
      "metadata": {
        "id": "NhExyJgvytzl",
        "colab": {
          "base_uri": "https://localhost:8080/"
        },
        "outputId": "e1193063-6e3c-438d-c145-317cbaa848b6"
      },
      "source": [
        "train_Purchase_Count"
      ],
      "execution_count": 50,
      "outputs": [
        {
          "output_type": "execute_result",
          "data": {
            "text/plain": [
              "array([-2.37763425, -0.37763425,  0.62236575, ..., -0.37763425,\n",
              "       -1.37763425, -1.37763425])"
            ]
          },
          "metadata": {
            "tags": []
          },
          "execution_count": 50
        }
      ]
    },
    {
      "cell_type": "code",
      "metadata": {
        "id": "IyJ5xHmIytzl",
        "colab": {
          "base_uri": "https://localhost:8080/"
        },
        "outputId": "5c9e43e1-cbef-404f-b4d5-a4ec128021b3"
      },
      "source": [
        "user_Ids, All_productIds, Purchase_Count"
      ],
      "execution_count": 51,
      "outputs": [
        {
          "output_type": "execute_result",
          "data": {
            "text/plain": [
              "(array([380, 598, 513, ..., 317, 114, 116], dtype=int16),\n",
              " array([4492, 2939, 2152, ...,  176,  337,  172], dtype=int16),\n",
              " array([1, 3, 4, ..., 3, 1, 3], dtype=int8))"
            ]
          },
          "metadata": {
            "tags": []
          },
          "execution_count": 51
        }
      ]
    },
    {
      "cell_type": "code",
      "metadata": {
        "id": "w-prXB6kytzm",
        "colab": {
          "base_uri": "https://localhost:8080/"
        },
        "outputId": "c2807818-de46-4e82-b11d-3736e5a27c68"
      },
      "source": [
        " #validation_data=([test_user_Ids, test_All_productIds], test_Purchase_Count)\n",
        "history = model.fit(\n",
        "  x=[train_user_Ids, train_All_productIds],\n",
        "  y=train_Purchase_Count,\n",
        "  epochs=10,\n",
        "  batch_size=2050,\n",
        "  verbose=2, # goes a little faster when you don't print the progress bar\n",
        "  validation_data=([test_user_Ids, test_All_productIds], test_Purchase_Count)\n",
        ")\n"
      ],
      "execution_count": 52,
      "outputs": [
        {
          "output_type": "stream",
          "text": [
            "Epoch 1/10\n",
            "40/40 - 2s - loss: 1.3291 - mse: 1.3291 - mae: 0.8517 - mape: 94.3290 - val_loss: 1.0700 - val_mse: 1.0700 - val_mae: 0.7560 - val_mape: 92.6302\n",
            "Epoch 2/10\n",
            "40/40 - 1s - loss: 1.0611 - mse: 1.0611 - mae: 0.7202 - mape: 89.7309 - val_loss: 0.9924 - val_mse: 0.9924 - val_mae: 0.7239 - val_mape: 90.5686\n",
            "Epoch 3/10\n",
            "40/40 - 1s - loss: 0.9846 - mse: 0.9846 - mae: 0.6865 - mape: 87.3691 - val_loss: 0.9840 - val_mse: 0.9840 - val_mae: 0.7200 - val_mape: 90.6351\n",
            "Epoch 4/10\n",
            "40/40 - 1s - loss: 0.9548 - mse: 0.9548 - mae: 0.6729 - mape: 86.5484 - val_loss: 0.9862 - val_mse: 0.9862 - val_mae: 0.7199 - val_mape: 92.2129\n",
            "Epoch 5/10\n",
            "40/40 - 1s - loss: 0.9384 - mse: 0.9384 - mae: 0.6661 - mape: 86.2443 - val_loss: 0.9900 - val_mse: 0.9900 - val_mae: 0.7218 - val_mape: 93.6178\n",
            "Epoch 6/10\n",
            "40/40 - 1s - loss: 0.9284 - mse: 0.9284 - mae: 0.6619 - mape: 85.9333 - val_loss: 0.9868 - val_mse: 0.9868 - val_mae: 0.7208 - val_mape: 92.2740\n",
            "Epoch 7/10\n",
            "40/40 - 1s - loss: 0.9170 - mse: 0.9170 - mae: 0.6576 - mape: 85.3214 - val_loss: 0.9889 - val_mse: 0.9889 - val_mae: 0.7211 - val_mape: 93.4903\n",
            "Epoch 8/10\n",
            "40/40 - 1s - loss: 0.9026 - mse: 0.9026 - mae: 0.6514 - mape: 84.6955 - val_loss: 0.9891 - val_mse: 0.9891 - val_mae: 0.7196 - val_mape: 93.6588\n",
            "Epoch 9/10\n",
            "40/40 - 1s - loss: 0.8885 - mse: 0.8885 - mae: 0.6470 - mape: 84.1618 - val_loss: 0.9856 - val_mse: 0.9856 - val_mae: 0.7188 - val_mape: 92.9951\n",
            "Epoch 10/10\n",
            "40/40 - 1s - loss: 0.8769 - mse: 0.8769 - mae: 0.6443 - mape: 84.0882 - val_loss: 0.9863 - val_mse: 0.9863 - val_mae: 0.7187 - val_mape: 92.6704\n"
          ],
          "name": "stdout"
        }
      ]
    },
    {
      "cell_type": "code",
      "metadata": {
        "id": "PvQk_U5Aytzm",
        "colab": {
          "base_uri": "https://localhost:8080/"
        },
        "outputId": "9377f8bc-b88b-462e-fe1f-61b75e7a31c7"
      },
      "source": [
        " x=[train_user_Ids, train_All_productIds]\n",
        "print(\n",
        "train_user_Ids.shape,\n",
        "train_All_productIds.shape)"
      ],
      "execution_count": 53,
      "outputs": [
        {
          "output_type": "stream",
          "text": [
            "(80668,) (80668,)\n"
          ],
          "name": "stdout"
        }
      ]
    },
    {
      "cell_type": "code",
      "metadata": {
        "id": "pGHWiCGSJRSc",
        "colab": {
          "base_uri": "https://localhost:8080/",
          "height": 279
        },
        "outputId": "cae2719e-095c-455b-c53d-e88bfc044a00"
      },
      "source": [
        "\r\n",
        "pyplot.plot(history.history['mse'],'r', label='mse')\r\n",
        "pyplot.plot(history.history['val_mse'],'b', label='val_mse')\r\n",
        "pyplot.xlabel('Epochs')\r\n",
        "pyplot.ylabel('Loss')\r\n",
        "pyplot.legend()\r\n",
        "pyplot.show()"
      ],
      "execution_count": 54,
      "outputs": [
        {
          "output_type": "display_data",
          "data": {
            "image/png": "[encoded data removed]",
            "text/plain": [
              "<Figure size 432x288 with 1 Axes>"
            ]
          },
          "metadata": {
            "tags": [],
            "needs_background": "light"
          }
        }
      ]
    },
    {
      "cell_type": "code",
      "metadata": {
        "id": "sjfKXRiuU77d",
        "colab": {
          "base_uri": "https://localhost:8080/",
          "height": 279
        },
        "outputId": "c9f953bd-22a5-46c4-d48c-6aaf51b16925"
      },
      "source": [
        "pyplot.plot(history.history['mae'],'r', label='mae')\r\n",
        "pyplot.plot(history.history['val_mae'],'g', label='val_mae')\r\n",
        "\r\n",
        "pyplot.xlabel('Epochs')\r\n",
        "pyplot.ylabel('Loss')\r\n",
        "pyplot.legend()\r\n",
        "pyplot.show()"
      ],
      "execution_count": 55,
      "outputs": [
        {
          "output_type": "display_data",
          "data": {
            "image/png": "[encoded data removed]",
            "text/plain": [
              "<Figure size 432x288 with 1 Axes>"
            ]
          },
          "metadata": {
            "tags": [],
            "needs_background": "light"
          }
        }
      ]
    },
    {
      "cell_type": "code",
      "metadata": {
        "id": "IfDLYC2EVHwv",
        "colab": {
          "base_uri": "https://localhost:8080/",
          "height": 279
        },
        "outputId": "a3838130-5355-4815-dccb-e3ef9044283d"
      },
      "source": [
        "pyplot.plot(history.history['val_loss'],'r', label='val_loss')\r\n",
        "pyplot.plot(history.history['loss'],'g', label='loss')\r\n",
        "pyplot.xlabel('Epochs')\r\n",
        "pyplot.ylabel('Loss')\r\n",
        "pyplot.legend()\r\n",
        "pyplot.show()"
      ],
      "execution_count": 56,
      "outputs": [
        {
          "output_type": "display_data",
          "data": {
            "image/png": "[encoded data removed]",
            "text/plain": [
              "<Figure size 432x288 with 1 Axes>"
            ]
          },
          "metadata": {
            "tags": [],
            "needs_background": "light"
          }
        }
      ]
    },
    {
      "cell_type": "code",
      "metadata": {
        "id": "e8zNp4d2Vepw"
      },
      "source": [
        "\r\n"
      ],
      "execution_count": 56,
      "outputs": []
    },
    {
      "cell_type": "code",
      "metadata": {
        "id": "EFNpJo7GzfIz"
      },
      "source": [
        ""
      ],
      "execution_count": 56,
      "outputs": []
    }
  ]
}